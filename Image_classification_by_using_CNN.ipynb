{
 "cells": [
  {
   "cell_type": "code",
   "execution_count": 51,
   "id": "21957d67",
   "metadata": {},
   "outputs": [],
   "source": [
    "import numpy as np\n",
    "import matplotlib.pyplot as plt\n",
    "import tensorflow as tf\n",
    "from tensorflow.keras import layers, datasets, models"
   ]
  },
  {
   "cell_type": "code",
   "execution_count": 52,
   "id": "6187bae4",
   "metadata": {},
   "outputs": [],
   "source": [
    "(X_train , y_train) , (X_test , y_test)= datasets.cifar10.load_data()"
   ]
  },
  {
   "cell_type": "code",
   "execution_count": 53,
   "id": "e5fe1157",
   "metadata": {},
   "outputs": [
    {
     "data": {
      "text/plain": [
       "(50000, 32, 32, 3)"
      ]
     },
     "execution_count": 53,
     "metadata": {},
     "output_type": "execute_result"
    }
   ],
   "source": [
    "X_train.shape"
   ]
  },
  {
   "cell_type": "code",
   "execution_count": 54,
   "id": "ed47d3d7",
   "metadata": {},
   "outputs": [
    {
     "data": {
      "text/plain": [
       "array([[[ 59,  62,  63],\n",
       "        [ 43,  46,  45],\n",
       "        [ 50,  48,  43],\n",
       "        ...,\n",
       "        [158, 132, 108],\n",
       "        [152, 125, 102],\n",
       "        [148, 124, 103]],\n",
       "\n",
       "       [[ 16,  20,  20],\n",
       "        [  0,   0,   0],\n",
       "        [ 18,   8,   0],\n",
       "        ...,\n",
       "        [123,  88,  55],\n",
       "        [119,  83,  50],\n",
       "        [122,  87,  57]],\n",
       "\n",
       "       [[ 25,  24,  21],\n",
       "        [ 16,   7,   0],\n",
       "        [ 49,  27,   8],\n",
       "        ...,\n",
       "        [118,  84,  50],\n",
       "        [120,  84,  50],\n",
       "        [109,  73,  42]],\n",
       "\n",
       "       ...,\n",
       "\n",
       "       [[208, 170,  96],\n",
       "        [201, 153,  34],\n",
       "        [198, 161,  26],\n",
       "        ...,\n",
       "        [160, 133,  70],\n",
       "        [ 56,  31,   7],\n",
       "        [ 53,  34,  20]],\n",
       "\n",
       "       [[180, 139,  96],\n",
       "        [173, 123,  42],\n",
       "        [186, 144,  30],\n",
       "        ...,\n",
       "        [184, 148,  94],\n",
       "        [ 97,  62,  34],\n",
       "        [ 83,  53,  34]],\n",
       "\n",
       "       [[177, 144, 116],\n",
       "        [168, 129,  94],\n",
       "        [179, 142,  87],\n",
       "        ...,\n",
       "        [216, 184, 140],\n",
       "        [151, 118,  84],\n",
       "        [123,  92,  72]]], dtype=uint8)"
      ]
     },
     "execution_count": 54,
     "metadata": {},
     "output_type": "execute_result"
    }
   ],
   "source": [
    "X_train[0]"
   ]
  },
  {
   "cell_type": "code",
   "execution_count": 55,
   "id": "b3baeaa4",
   "metadata": {},
   "outputs": [
    {
     "data": {
      "text/plain": [
       "<matplotlib.image.AxesImage at 0x1ed5335f9a0>"
      ]
     },
     "execution_count": 55,
     "metadata": {},
     "output_type": "execute_result"
    },
    {
     "data": {
      "image/png": "[encoded data removed]",
      "text/plain": [
       "<Figure size 1080x144 with 1 Axes>"
      ]
     },
     "metadata": {
      "needs_background": "light"
     },
     "output_type": "display_data"
    }
   ],
   "source": [
    "plt.figure(figsize = (15,2))\n",
    "plt.imshow(X_train[0])"
   ]
  },
  {
   "cell_type": "code",
   "execution_count": 56,
   "id": "3105ece2",
   "metadata": {},
   "outputs": [
    {
     "data": {
      "text/plain": [
       "array([[6],\n",
       "       [9],\n",
       "       [9],\n",
       "       [4],\n",
       "       [1]], dtype=uint8)"
      ]
     },
     "execution_count": 56,
     "metadata": {},
     "output_type": "execute_result"
    }
   ],
   "source": [
    "y_train[:5]"
   ]
  },
  {
   "cell_type": "code",
   "execution_count": 57,
   "id": "feecb9cd",
   "metadata": {},
   "outputs": [
    {
     "data": {
      "text/plain": [
       "array([6, 9, 9, 4, 1], dtype=uint8)"
      ]
     },
     "execution_count": 57,
     "metadata": {},
     "output_type": "execute_result"
    }
   ],
   "source": [
    "y_train = y_train.reshape(-1 , )\n",
    "y_train[:5]"
   ]
  },
  {
   "cell_type": "code",
   "execution_count": 23,
   "id": "15cce2b4",
   "metadata": {},
   "outputs": [],
   "source": [
    "classes = [\"airplane\" , \"automobile\", \"bird\", \"cat\", \"deer\",\"dog\", \"frog\", \"horse\", \"ship\", \"truck\"]"
   ]
  },
  {
   "cell_type": "code",
   "execution_count": 58,
   "id": "10ca2957",
   "metadata": {},
   "outputs": [],
   "source": [
    "def plot_sample(X, y , index):\n",
    "    plt.figure(figsize = (15,2))\n",
    "    plt.imshow(X[index])\n",
    "    plt.xlabel(classes[y[index]])"
   ]
  },
  {
   "cell_type": "code",
   "execution_count": 29,
   "id": "ad3f2f38",
   "metadata": {},
   "outputs": [
    {
     "data": {
      "image/png": "[encoded data removed]",
      "text/plain": [
       "<Figure size 1080x144 with 1 Axes>"
      ]
     },
     "metadata": {
      "needs_background": "light"
     },
     "output_type": "display_data"
    }
   ],
   "source": [
    "plot_sample(X_train, y_train , 3)"
   ]
  },
  {
   "cell_type": "markdown",
   "id": "1bef7d3a",
   "metadata": {},
   "source": [
    "## Normalization"
   ]
  },
  {
   "cell_type": "code",
   "execution_count": 62,
   "id": "9cd41ba9",
   "metadata": {},
   "outputs": [],
   "source": [
    "X_test_s = X_test/255\n",
    "X_train_s = X_train/255\n",
    "y_test_s = y_test/255\n",
    "y_train_s = y_train/255"
   ]
  },
  {
   "cell_type": "code",
   "execution_count": 39,
   "id": "f4dbd17b",
   "metadata": {},
   "outputs": [],
   "source": [
    "ann = models.Sequential([\n",
    "    layers.Flatten(input_shape =(32, 32, 3)),\n",
    "    layers.Dense(3000, activation = 'relu'),\n",
    "    layers.Dense(1000, activation = 'relu'),\n",
    "    layers.Dense(10 , activation = 'sigmoid')\n",
    "\n",
    "])\n",
    "\n"
   ]
  },
  {
   "cell_type": "code",
   "execution_count": null,
   "id": "e7ecbb75",
   "metadata": {},
   "outputs": [],
   "source": [
    "ann.compile(optimizer = 'SGD',\n",
    "             loss = 'sparse_categorical_crossentropy',\n",
    "             metrics = ['accuracy'])\n",
    "ann.fit(X_train_s , y_train_s , epochs = 5)"
   ]
  },
  {
   "cell_type": "code",
   "execution_count": 41,
   "id": "1a3971bf",
   "metadata": {},
   "outputs": [
    {
     "name": "stdout",
     "output_type": "stream",
     "text": [
      "313/313 [==============================] - 23s 20ms/step - loss: 1.0890e-04 - accuracy: 0.1000\n"
     ]
    },
    {
     "data": {
      "text/plain": [
       "[0.00010889828263316303, 0.10000000149011612]"
      ]
     },
     "execution_count": 41,
     "metadata": {},
     "output_type": "execute_result"
    }
   ],
   "source": [
    "ann.evaluate(X_test, y_test)"
   ]
  },
  {
   "cell_type": "markdown",
   "id": "a0872cce",
   "metadata": {},
   "source": [
    "## Accuracy is not good , lets try CNN"
   ]
  },
  {
   "cell_type": "code",
   "execution_count": 64,
   "id": "8f1d3eda",
   "metadata": {},
   "outputs": [],
   "source": [
    "cnn = models.Sequential([\n",
    "    #cnn\n",
    "    layers.Conv2D(filters = 32, kernel_size = (3,3), activation= 'relu', input_shape = (32,32,3)),\n",
    "    layers.MaxPooling2D((2,2)),\n",
    "    \n",
    "    layers.Conv2D(filters = 64 , kernel_size = (3,3) , activation = 'relu'),\n",
    "    layers.MaxPooling2D((2,2)),\n",
    "    #ann\n",
    "    layers.Flatten(),\n",
    "    layers.Dense(64, activation = 'relu'),\n",
    "    \n",
    "    layers.Dense(10 , activation = 'softmax')\n",
    "    ])"
   ]
  },
  {
   "cell_type": "code",
   "execution_count": null,
   "id": "7e1ada70",
   "metadata": {},
   "outputs": [],
   "source": [
    "cnn.compile(optimizer = 'SGD',\n",
    "             loss = 'sparse_categorical_crossentropy',\n",
    "             metrics = ['accuracy'])\n",
    "cnn.fit(X_train , y_train , epochs = 10)"
   ]
  },
  {
   "cell_type": "code",
   "execution_count": null,
   "id": "6d0d3dc0",
   "metadata": {},
   "outputs": [],
   "source": [
    "cnn.evaluate(X_test , y_test , 1)"
   ]
  },
  {
   "cell_type": "code",
   "execution_count": 66,
   "id": "231912ae",
   "metadata": {},
   "outputs": [
    {
     "data": {
      "text/plain": [
       "array([[9.9999619e-01, 1.4065134e-06, 3.1735830e-08, 7.0049353e-08,\n",
       "        3.7462141e-07, 3.9954049e-08, 1.6912199e-07, 1.6396157e-06,\n",
       "        7.9336658e-08, 5.7090780e-08],\n",
       "       [9.9999988e-01, 5.8233002e-08, 2.9720928e-10, 1.2997450e-09,\n",
       "        3.7646832e-09, 6.3418981e-10, 1.4643055e-09, 4.7138915e-08,\n",
       "        1.0713211e-09, 7.8755058e-10],\n",
       "       [9.9999952e-01, 2.2852792e-07, 1.9997697e-09, 8.0418898e-09,\n",
       "        2.9825838e-08, 3.1548342e-09, 1.1937009e-08, 1.9987172e-07,\n",
       "        5.3221001e-09, 4.8499240e-09],\n",
       "       [9.9999988e-01, 4.0400117e-08, 2.7166042e-10, 9.2072061e-10,\n",
       "        5.3540115e-09, 4.2303314e-10, 1.6437774e-09, 3.7190230e-08,\n",
       "        7.3544287e-10, 5.4870525e-10],\n",
       "       [9.9999285e-01, 2.6670439e-06, 6.8154854e-08, 1.5317654e-07,\n",
       "        8.6121599e-07, 7.9381806e-08, 2.8095587e-07, 2.8114903e-06,\n",
       "        1.4945994e-07, 1.3252811e-07]], dtype=float32)"
      ]
     },
     "execution_count": 66,
     "metadata": {},
     "output_type": "execute_result"
    }
   ],
   "source": [
    "y_pred = cnn.predict(X_test)\n",
    "y_pred[:5]"
   ]
  },
  {
   "cell_type": "code",
   "execution_count": null,
   "id": "00391ef6",
   "metadata": {},
   "outputs": [],
   "source": [
    "y_test = y_test.reshape(-1 , )\n",
    "plot_sample(X_test , y_test , 1)"
   ]
  },
  {
   "cell_type": "code",
   "execution_count": null,
   "id": "16161d16",
   "metadata": {},
   "outputs": [],
   "source": [
    "y_pred = cnn.predict(X_test)\n",
    "y_pred[:5]"
   ]
  },
  {
   "cell_type": "code",
   "execution_count": 70,
   "id": "6f45a005",
   "metadata": {},
   "outputs": [
    {
     "data": {
      "text/plain": [
       "2"
      ]
     },
     "execution_count": 70,
     "metadata": {},
     "output_type": "execute_result"
    }
   ],
   "source": [
    "np.argmax([5,12,100,3])"
   ]
  },
  {
   "cell_type": "code",
   "execution_count": null,
   "id": "11683ab2",
   "metadata": {},
   "outputs": [],
   "source": [
    "np.argmax(y_pred[0])"
   ]
  },
  {
   "cell_type": "code",
   "execution_count": null,
   "id": "47af295a",
   "metadata": {},
   "outputs": [],
   "source": [
    "y_classes = [np.argmax(element) for element in y_pred] \n",
    "y_classes[:5]"
   ]
  },
  {
   "cell_type": "code",
   "execution_count": null,
   "id": "485671cd",
   "metadata": {},
   "outputs": [],
   "source": [
    "plot_sample(X_test, y_test , 1)"
   ]
  },
  {
   "cell_type": "code",
   "execution_count": null,
   "id": "27525248",
   "metadata": {},
   "outputs": [],
   "source": [
    "classes[y_classes[1]]"
   ]
  },
  {
   "cell_type": "code",
   "execution_count": null,
   "id": "67f05a8a",
   "metadata": {},
   "outputs": [],
   "source": [
    "print(\"Classification Report :\\n\" , classification_report(y_test, y_classes))"
   ]
  },
  {
   "cell_type": "code",
   "execution_count": null,
   "id": "d6056537",
   "metadata": {},
   "outputs": [],
   "source": [
    "https://www.youtube.com/watch?v=7HPwo4wnJeA&ab_channel=codebasics"
   ]
  }
 ],
 "metadata": {
  "kernelspec": {
   "display_name": "Python 3 (ipykernel)",
   "language": "python",
   "name": "python3"
  },
  "language_info": {
   "codemirror_mode": {
    "name": "ipython",
    "version": 3
   },
   "file_extension": ".py",
   "mimetype": "text/x-python",
   "name": "python",
   "nbconvert_exporter": "python",
   "pygments_lexer": "ipython3",
   "version": "3.9.7"
  }
 },
 "nbformat": 4,
 "nbformat_minor": 5
}
